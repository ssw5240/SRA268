{
  "nbformat": 4,
  "nbformat_minor": 0,
  "metadata": {
    "colab": {
      "name": "Copy of Copy of Lab2Template.ipynb",
      "provenance": [],
      "include_colab_link": true
    },
    "kernelspec": {
      "name": "python3",
      "display_name": "Python 3"
    }
  },
  "cells": [
    {
      "cell_type": "markdown",
      "metadata": {
        "id": "view-in-github",
        "colab_type": "text"
      },
      "source": [
        "<a href=\"https://colab.research.google.com/github/ssw5240/SRA268/blob/master/TURN%20IN%20Lab2Template.ipynb\" target=\"_parent\"><img src=\"https://colab.research.google.com/assets/colab-badge.svg\" alt=\"Open In Colab\"/></a>"
      ]
    },
    {
      "cell_type": "markdown",
      "metadata": {
        "id": "6sOc4Uyr4U-Z",
        "colab_type": "text"
      },
      "source": [
        "## Graph Types"
      ]
    },
    {
      "cell_type": "markdown",
      "metadata": {
        "id": "0zZdVLAd5CYr",
        "colab_type": "text"
      },
      "source": [
        "Creator\n",
        "* Samuel Woytowich\n"
      ]
    },
    {
      "cell_type": "markdown",
      "metadata": {
        "id": "g-r6Clq45Hn4",
        "colab_type": "text"
      },
      "source": [
        "### Deviation\n"
      ]
    },
    {
      "cell_type": "markdown",
      "metadata": {
        "id": "2gorxo6E7A0t",
        "colab_type": "text"
      },
      "source": [
        "![alt text](https://raw.githubusercontent.com/ssw5240/SRA268/master/Deviation.PNG)"
      ]
    },
    {
      "cell_type": "markdown",
      "metadata": {
        "id": "w6bZ_NEi7E3w",
        "colab_type": "text"
      },
      "source": [
        "#### What is this telling us?"
      ]
    },
    {
      "cell_type": "markdown",
      "metadata": {
        "id": "95L-spaC7QHF",
        "colab_type": "text"
      },
      "source": [
        "The deviation graph is best represented as two diverging bar charts to explain how the sets of data differ from that of the original. The top portion of the graph is responsble for displaying the postive sum average of win points. The bottom portion of the graph is responsible for displaying the negative sum average of win points. For example, in 1988 the graph shows a large positve deviation in win points compared to that of 1999. It's much easier visually to compare the difference per year in the average win points."
      ]
    },
    {
      "cell_type": "markdown",
      "metadata": {
        "id": "YgXyXjmz7cDP",
        "colab_type": "text"
      },
      "source": [
        "### Correlation\n"
      ]
    },
    {
      "cell_type": "markdown",
      "metadata": {
        "id": "SGx15rZq7hvt",
        "colab_type": "text"
      },
      "source": [
        "![alt text](https://raw.githubusercontent.com/ssw5240/SRA268/master/Correlation.PNG)"
      ]
    },
    {
      "cell_type": "markdown",
      "metadata": {
        "id": "dljjONNi7jmj",
        "colab_type": "text"
      },
      "source": [
        "#### What is this telling us?"
      ]
    },
    {
      "cell_type": "markdown",
      "metadata": {
        "id": "PwZEZrFB7laG",
        "colab_type": "text"
      },
      "source": [
        "The correlation graphs provide a great visual aid to represent the relationship between the win and lose points per year. The graph does a great job of showing how similar the two graphs for both win and lose points and reveals that they end up being very comparable. Through graphing out this set of data you're able to recognize that the NCAA games between 1984-2016 were very close score wise. For example, the two highest points on both graphs come in 1986 and 2016 along with the two lowest points on both graphs coming in 1984 and 1998. This further proves the average score from win and lose points are nearly identical.\n",
        "\n",
        "\n"
      ]
    },
    {
      "cell_type": "markdown",
      "metadata": {
        "id": "MqUdI-uL7r2s",
        "colab_type": "text"
      },
      "source": [
        "### Ranking\n"
      ]
    },
    {
      "cell_type": "markdown",
      "metadata": {
        "id": "AvlxCOVt7x9F",
        "colab_type": "text"
      },
      "source": [
        "![alt text](https://raw.githubusercontent.com/ssw5240/SRA268/master/images/Ranking.PNG)"
      ]
    },
    {
      "cell_type": "markdown",
      "metadata": {
        "id": "lCAYtfza7yTq",
        "colab_type": "text"
      },
      "source": [
        "#### What is this telling us?"
      ]
    },
    {
      "cell_type": "markdown",
      "metadata": {
        "id": "MyuciD277ygU",
        "colab_type": "text"
      },
      "source": [
        "Prior to creating this graph I didn't see the benefit of ranking the win points by academic year. The ranking graphs does a fantastic job of comparing the greatest amount of win points and lowest amount of win points scored per academic year. A ranking graph is a great way to analyze data trends within large datasets. It creates a clear and easy way to represent the win points from 1984 as being the lowest and the win points from 1988 as the highest. "
      ]
    },
    {
      "cell_type": "markdown",
      "metadata": {
        "id": "dGDGl8-G7y8Y",
        "colab_type": "text"
      },
      "source": [
        "### Distribution\n"
      ]
    },
    {
      "cell_type": "markdown",
      "metadata": {
        "id": "FB0uV-jy76p9",
        "colab_type": "text"
      },
      "source": [
        "![alt text](https://raw.githubusercontent.com/ssw5240/SRA268/master/images/Distribution.PNG)"
      ]
    },
    {
      "cell_type": "markdown",
      "metadata": {
        "id": "_6SOzhrQ76zH",
        "colab_type": "text"
      },
      "source": [
        "#### What is this telling us?"
      ]
    },
    {
      "cell_type": "markdown",
      "metadata": {
        "id": "HBWqsS_g767h",
        "colab_type": "text"
      },
      "source": [
        "Distribution graphs are a fantastic way to allow the reader to understand how frequently something occurs. The graph is exceptional at showing the outliers of data while representing the low frequency. If there are any outliers present they stick out very clearly to the reader. The visual symmetrey allows for a quick look to understand that the mean and median are very similar in number across the total win points. A vertical bar diagram best represents the data as it is very easy to read and understand along with comparing the occurence of certain ranges across the graph. "
      ]
    },
    {
      "cell_type": "markdown",
      "metadata": {
        "id": "wQsDThk677Fy",
        "colab_type": "text"
      },
      "source": [
        "### Change over Time\n"
      ]
    },
    {
      "cell_type": "markdown",
      "metadata": {
        "id": "Z1j_YLOA7_OK",
        "colab_type": "text"
      },
      "source": [
        "![alt text](https://raw.githubusercontent.com/ssw5240/SRA268/master/images/Change%20Over%20Time.PNG)"
      ]
    },
    {
      "cell_type": "markdown",
      "metadata": {
        "id": "mpfsmmgi7_Vj",
        "colab_type": "text"
      },
      "source": [
        "#### What is this telling us?"
      ]
    },
    {
      "cell_type": "markdown",
      "metadata": {
        "id": "rYLXoMMO7_di",
        "colab_type": "text"
      },
      "source": [
        "The change over time graph does a great job of showing overarching trends that occur within the data. The total win points and the academic year provide for a great change over time graph that shows how NCAA baskeball seasons scores have changed over the decades. It doesn't take much to notice the scoring changes, both positive and negative. A line chart makes it very easy for the differences between data points to be very clear to the reader. The trend however for the graoh is that there is no trend, it's never clearly falling or rising consistenly for more than a few years at a time.\n"
      ]
    },
    {
      "cell_type": "markdown",
      "metadata": {
        "id": "lFwiHoE-7_jZ",
        "colab_type": "text"
      },
      "source": [
        "### Magnitude\n"
      ]
    },
    {
      "cell_type": "markdown",
      "metadata": {
        "id": "ICQFnXj78EbF",
        "colab_type": "text"
      },
      "source": [
        "![alt text](https://raw.githubusercontent.com/ssw5240/SRA268/master/images/Magnitude.PNG)"
      ]
    },
    {
      "cell_type": "markdown",
      "metadata": {
        "id": "QGG7XYG88Eii",
        "colab_type": "text"
      },
      "source": [
        "#### What is this telling us?"
      ]
    },
    {
      "cell_type": "markdown",
      "metadata": {
        "id": "VS7uGa0l8Eos",
        "colab_type": "text"
      },
      "source": [
        "The magnitude graph is a great way to emphasize the comparison between the wind points and the academic year. The win points are represented on the y-axis while the academic year is displayed on the x-axis. The use of a bar chart was great for creating clear and concise data pooints on the graph that are very easy to read. I made an ascending order to this in regard to win points and used multiple color stages to chunk the data to be easier ot read. You're easily able to tell how the data points the data matches the NCAA year. The magnitude graph allows for easy conclusions to be drawn. \n"
      ]
    },
    {
      "cell_type": "markdown",
      "metadata": {
        "id": "bEKFxP8R8Evk",
        "colab_type": "text"
      },
      "source": [
        "### Part-to-Whole\n"
      ]
    },
    {
      "cell_type": "markdown",
      "metadata": {
        "id": "WFHlcYKV8E35",
        "colab_type": "text"
      },
      "source": [
        "![alt text](https://raw.githubusercontent.com/ssw5240/SRA268/master/images/Part-To-Whole.PNG)"
      ]
    },
    {
      "cell_type": "markdown",
      "metadata": {
        "id": "PNSd3wlp8UZH",
        "colab_type": "text"
      },
      "source": [
        "#### What is this telling us?"
      ]
    },
    {
      "cell_type": "markdown",
      "metadata": {
        "id": "y9tb_QRA8aqt",
        "colab_type": "text"
      },
      "source": [
        "The part-to-whole graph does a great job of showing how data can be compared from a dataset. I used a packed bubble graph that allows for clear identification of each day of the week regarding how many points are scored in relation to that specific day of the week. The packed bubble version of the part-to-whoel graph allows for an easy conclusion to be drawn that most points are scored on the days that most games are played. The days that games of the NCAA season occur most on Thursday, Friday and Saturday so therefore the total number of points scored per game should correlate to these days "
      ]
    }
  ]
}