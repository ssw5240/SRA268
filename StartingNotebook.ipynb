{
  "nbformat": 4,
  "nbformat_minor": 0,
  "metadata": {
    "colab": {
      "name": "StartingNotebook.ipynb",
      "provenance": [],
      "authorship_tag": "ABX9TyPBb/+3LZhzaa8q/ngZeMJg",
      "include_colab_link": true
    },
    "kernelspec": {
      "name": "python3",
      "display_name": "Python 3"
    }
  },
  "cells": [
    {
      "cell_type": "markdown",
      "metadata": {
        "id": "view-in-github",
        "colab_type": "text"
      },
      "source": [
        "<a href=\"https://colab.research.google.com/github/ssw5240/SRA268/blob/master/StartingNotebook.ipynb\" target=\"_parent\"><img src=\"https://colab.research.google.com/assets/colab-badge.svg\" alt=\"Open In Colab\"/></a>"
      ]
    },
    {
      "cell_type": "markdown",
      "metadata": {
        "id": "E2SBM7Po6BGX",
        "colab_type": "text"
      },
      "source": [
        "## something in the abstract\n",
        "\n",
        "\n"
      ]
    }
  ]
}