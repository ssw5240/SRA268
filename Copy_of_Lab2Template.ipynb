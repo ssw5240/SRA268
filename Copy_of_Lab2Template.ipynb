{
  "nbformat": 4,
  "nbformat_minor": 0,
  "metadata": {
    "colab": {
      "name": "Copy of Lab2Template.ipynb",
      "provenance": [],
      "include_colab_link": true
    },
    "kernelspec": {
      "name": "python3",
      "display_name": "Python 3"
    }
  },
  "cells": [
    {
      "cell_type": "markdown",
      "metadata": {
        "id": "view-in-github",
        "colab_type": "text"
      },
      "source": [
        "<a href=\"https://colab.research.google.com/github/ssw5240/SRA268/blob/master/Copy_of_Lab2Template.ipynb\" target=\"_parent\"><img src=\"https://colab.research.google.com/assets/colab-badge.svg\" alt=\"Open In Colab\"/></a>"
      ]
    },
    {
      "cell_type": "markdown",
      "metadata": {
        "id": "6sOc4Uyr4U-Z",
        "colab_type": "text"
      },
      "source": [
        "## Graph Types"
      ]
    },
    {
      "cell_type": "markdown",
      "metadata": {
        "id": "0zZdVLAd5CYr",
        "colab_type": "text"
      },
      "source": [
        "Creator\n",
        "* Greg Sanderson\n"
      ]
    },
    {
      "cell_type": "markdown",
      "metadata": {
        "id": "g-r6Clq45Hn4",
        "colab_type": "text"
      },
      "source": [
        "### Deviation\n"
      ]
    },
    {
      "cell_type": "code",
      "metadata": {
        "id": "0fUmi3wW81_C",
        "colab_type": "code",
        "colab": {}
      },
      "source": [
        ""
      ],
      "execution_count": 0,
      "outputs": []
    },
    {
      "cell_type": "markdown",
      "metadata": {
        "id": "2gorxo6E7A0t",
        "colab_type": "text"
      },
      "source": [
        "![alt text](https://raw.githubusercontent.com/gregsanderson33/SRA-268/master/images/Screen%20Shot%202020-02-19%20at%202.16.19%20PM.png)"
      ]
    },
    {
      "cell_type": "markdown",
      "metadata": {
        "id": "w6bZ_NEi7E3w",
        "colab_type": "text"
      },
      "source": [
        "#### What is this telling us?"
      ]
    },
    {
      "cell_type": "markdown",
      "metadata": {
        "id": "95L-spaC7QHF",
        "colab_type": "text"
      },
      "source": [
        "This deviation graph shows us two diverging bar charts and displays how these sets of quantitative data are different from the original set of values. As you can tell from the graph, the top portion represents the positive sum average of win points, while the bottom half shows the negative sum average of win points per acadmeic year. It is much easier to compare the difference per year in the average win points. For example, in 1984 the graph shows a negative deviation in win points compared to 1986. Each year will show only a positive or negative deviation; never both. "
      ]
    },
    {
      "cell_type": "markdown",
      "metadata": {
        "id": "YgXyXjmz7cDP",
        "colab_type": "text"
      },
      "source": [
        "### Correlation\n"
      ]
    },
    {
      "cell_type": "markdown",
      "metadata": {
        "id": "SGx15rZq7hvt",
        "colab_type": "text"
      },
      "source": [
        "![alt text](https://raw.githubusercontent.com/gregsanderson33/SRA-268/master/images/Screen%20Shot%202020-02-19%20at%202.19.49%20PM.png)"
      ]
    },
    {
      "cell_type": "markdown",
      "metadata": {
        "id": "dljjONNi7jmj",
        "colab_type": "text"
      },
      "source": [
        "#### What is this telling us?"
      ]
    },
    {
      "cell_type": "markdown",
      "metadata": {
        "id": "PwZEZrFB7laG",
        "colab_type": "text"
      },
      "source": [
        "This correlation graph is showing the relationship between lose points and win points per year from 1984-2016. As you can tell from the graph, each year the total points for both lose and win points are around the similar total. You can infer from this that most of the games between the two teams in the NCAA were close ones. From 1984-1986 the total points increase, then from 1987-1999 the total points decrease. From 2001-2017 the total points remain relatively the same. Overall you can tell that the correlation between win/lose points are relatively similar for each year, and follow the same trends. "
      ]
    },
    {
      "cell_type": "markdown",
      "metadata": {
        "id": "MqUdI-uL7r2s",
        "colab_type": "text"
      },
      "source": [
        "### Ranking\n"
      ]
    },
    {
      "cell_type": "markdown",
      "metadata": {
        "id": "AvlxCOVt7x9F",
        "colab_type": "text"
      },
      "source": [
        "![alt text](https://raw.githubusercontent.com/gregsanderson33/SRA-268/master/images/Screen%20Shot%202020-02-19%20at%202.21.36%20PM.png)"
      ]
    },
    {
      "cell_type": "markdown",
      "metadata": {
        "id": "lCAYtfza7yTq",
        "colab_type": "text"
      },
      "source": [
        "#### What is this telling us?"
      ]
    },
    {
      "cell_type": "markdown",
      "metadata": {
        "id": "MyuciD277ygU",
        "colab_type": "text"
      },
      "source": [
        "For this ranking graph, it is showing us which years had the lowest amount of win points scored compared to the greatest amount of win points scored. As you can notice, the trend of the graph is going from least to greatest amount of points (lowest win total points on the left side to highest total win points on right side). The lowest amount of win points occurred in 1984 and the highest amount of win points occurred in 1998. Analyzing a ranking graph is a great way to interpret certain trends with the information you are looking at because it sorts data into any category you need."
      ]
    },
    {
      "cell_type": "markdown",
      "metadata": {
        "id": "dGDGl8-G7y8Y",
        "colab_type": "text"
      },
      "source": [
        "### Distribution\n"
      ]
    },
    {
      "cell_type": "markdown",
      "metadata": {
        "id": "FB0uV-jy76p9",
        "colab_type": "text"
      },
      "source": [
        "![alt text](https://raw.githubusercontent.com/gregsanderson33/SRA-268/master/images/Screen%20Shot%202020-02-19%20at%202.22.14%20PM.png)"
      ]
    },
    {
      "cell_type": "markdown",
      "metadata": {
        "id": "_6SOzhrQ76zH",
        "colab_type": "text"
      },
      "source": [
        "#### What is this telling us?"
      ]
    },
    {
      "cell_type": "markdown",
      "metadata": {
        "id": "HBWqsS_g767h",
        "colab_type": "text"
      },
      "source": [
        "A distribution graph will tell the interpreter how often something occurs, and you will be able to determine the skewness of the visual. This graph provided shows on the y-axis the total count of win points and you can conclude that for the most part the visual is symmetric compared to a skewness of left or right. You can tell by the different columns that it is more symmetric on both sides meaning that the mean and the median are roughly the same. Using columns is the most traditional way of making a distribution plot, and is easy to interpret the shape of the graph as well."
      ]
    },
    {
      "cell_type": "markdown",
      "metadata": {
        "id": "wQsDThk677Fy",
        "colab_type": "text"
      },
      "source": [
        "### Change over Time\n"
      ]
    },
    {
      "cell_type": "markdown",
      "metadata": {
        "id": "Z1j_YLOA7_OK",
        "colab_type": "text"
      },
      "source": [
        "![alt text](https://raw.githubusercontent.com/gregsanderson33/SRA-268/master/images/Screen%20Shot%202020-02-19%20at%202.22.48%20PM.png)"
      ]
    },
    {
      "cell_type": "markdown",
      "metadata": {
        "id": "mpfsmmgi7_Vj",
        "colab_type": "text"
      },
      "source": [
        "#### What is this telling us?"
      ]
    },
    {
      "cell_type": "markdown",
      "metadata": {
        "id": "rYLXoMMO7_di",
        "colab_type": "text"
      },
      "source": [
        "This change over time graph will show us the overall trend of the data provided. On the y-axis shows the total win points, and on the x-axis shows the academic years for the NCAA basketball seasons. Each year will show the visualizer how many total win points occurred in that specific season and eventually you will be able to draw your own conclusion with what the trend will be for the dataset. A line chart as shown in this diagram will make it easier to interpet the datapoints for each year. For this specific graph their is no linear trend, and is instead an unsteady line with different points."
      ]
    },
    {
      "cell_type": "markdown",
      "metadata": {
        "id": "lFwiHoE-7_jZ",
        "colab_type": "text"
      },
      "source": [
        "### Magnitude\n"
      ]
    },
    {
      "cell_type": "markdown",
      "metadata": {
        "id": "ICQFnXj78EbF",
        "colab_type": "text"
      },
      "source": [
        "![alt text](https://raw.githubusercontent.com/gregsanderson33/SRA-268/master/images/Screen%20Shot%202020-02-19%20at%202.23.14%20PM.png)"
      ]
    },
    {
      "cell_type": "markdown",
      "metadata": {
        "id": "QGG7XYG88Eii",
        "colab_type": "text"
      },
      "source": [
        "#### What is this telling us?"
      ]
    },
    {
      "cell_type": "markdown",
      "metadata": {
        "id": "VS7uGa0l8Eos",
        "colab_type": "text"
      },
      "source": [
        "This magnitutde graph shows us a good representation of the comparison of the data. The different data shown in this visual displays acadmeic years on the x-axis and the total win points on the y-axis. I used the standard way to make a magnitutde graph in which I made a bar chart and this makes it easier to interpet the data. You easily can tell from the data how each point lines up with the correct academic NCAA year, and you will be able to conclude certain comparisons with the data. Overall, using a magnitutde graph will be necessary if you are trying to compare different datasets and develop conclusions about it."
      ]
    },
    {
      "cell_type": "markdown",
      "metadata": {
        "id": "bEKFxP8R8Evk",
        "colab_type": "text"
      },
      "source": [
        "### Part-to-Whole\n"
      ]
    },
    {
      "cell_type": "markdown",
      "metadata": {
        "id": "WFHlcYKV8E35",
        "colab_type": "text"
      },
      "source": [
        "![alt text](https://raw.githubusercontent.com/gregsanderson33/SRA-268/master/images/Screen%20Shot%202020-02-19%20at%202.23.35%20PM.png)"
      ]
    },
    {
      "cell_type": "markdown",
      "metadata": {
        "id": "PNSd3wlp8UZH",
        "colab_type": "text"
      },
      "source": [
        "#### What is this telling us?"
      ]
    },
    {
      "cell_type": "markdown",
      "metadata": {
        "id": "y9tb_QRA8aqt",
        "colab_type": "text"
      },
      "source": [
        "The last graph I made for this lab was a part to whole diagram. This is completely different that the previous 6 graphs shown in which this shows no quantitiative data, and instead shows individual entities in the data. This diagram is basically a pie chart and shows the different days of the week (excluding Monday and Tuesday) that the NCAA games were played, and shows the total win points on those specific days. As mentioned in class, this type of graph shows the whole picture and gives the visualizer a general synopsis of the trend of the topic. Overall, this graph is a good way to interpret specific data. "
      ]
    }
  ]
}