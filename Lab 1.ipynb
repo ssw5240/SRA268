{
  "nbformat": 4,
  "nbformat_minor": 0,
  "metadata": {
    "colab": {
      "name": "Untitled0.ipynb",
      "provenance": [],
      "authorship_tag": "ABX9TyMetnV2c+4BlC1TkKGwDgBI",
      "include_colab_link": true
    },
    "kernelspec": {
      "name": "python3",
      "display_name": "Python 3"
    }
  },
  "cells": [
    {
      "cell_type": "markdown",
      "metadata": {
        "id": "view-in-github",
        "colab_type": "text"
      },
      "source": [
        "<a href=\"https://colab.research.google.com/github/ssw5240/SRA268/blob/master/Lab%201.ipynb\" target=\"_parent\"><img src=\"https://colab.research.google.com/assets/colab-badge.svg\" alt=\"Open In Colab\"/></a>"
      ]
    },
    {
      "cell_type": "markdown",
      "metadata": {
        "id": "sxs_HfUT_9P6",
        "colab_type": "text"
      },
      "source": [
        "# Lab 1 - Highest temps of the first 3 months of 2017"
      ]
    },
    {
      "cell_type": "markdown",
      "metadata": {
        "id": "5DsJ8VKpAgB1",
        "colab_type": "text"
      },
      "source": [
        "# Outline"
      ]
    },
    {
      "cell_type": "markdown",
      "metadata": {
        "id": "_Q6vQ8bJAIka",
        "colab_type": "text"
      },
      "source": [
        "In this lab I decided to plot the highest recorded temperatures of the first quarter of 2017. This demonstrates the changing of the seasons as winter starts to come to an end. "
      ]
    },
    {
      "cell_type": "markdown",
      "metadata": {
        "id": "RMHhFpBPAoSi",
        "colab_type": "text"
      },
      "source": [
        "# Graph Sketch"
      ]
    },
    {
      "cell_type": "markdown",
      "metadata": {
        "id": "O6NOC-1K-456",
        "colab_type": "text"
      },
      "source": [
        "![alt text](https://raw.githubusercontent.com/ssw5240/SRA268/master/images/Untitled%20drawing.png))"
      ]
    },
    {
      "cell_type": "markdown",
      "metadata": {
        "id": "riq4OINoAs_O",
        "colab_type": "text"
      },
      "source": [
        "# Conclusion"
      ]
    },
    {
      "cell_type": "markdown",
      "metadata": {
        "id": "FcKFeJMkAxUH",
        "colab_type": "text"
      },
      "source": [
        "The data revealed the highs of 2017 to be higher than expected for the time of year. The data revealed temperatures upwards of 60 degrees occuring at least once in the first three months of the year.This data should continued to be monitored over the coming years to see if this trend continues."
      ]
    }
  ]
}